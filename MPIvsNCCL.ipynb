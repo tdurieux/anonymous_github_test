{
 "cells": [
  {
   "cell_type": "code",
   "execution_count": 1,
   "metadata": {},
   "outputs": [],
   "source": [
    "import pandas as pd\n",
    "import numpy as np\n",
    "import matplotlib.pyplot as plt\n",
    "import seaborn as sns\n",
    "sns.set()\n",
    "%matplotlib inline"
   ]
  },
  {
   "cell_type": "code",
   "execution_count": 2,
   "metadata": {},
   "outputs": [
    {
     "data": {
      "image/png": "[encoded data removed]",
      "text/plain": [
       "<Figure size 432x288 with 1 Axes>"
      ]
     },
     "metadata": {
      "needs_background": "light"
     },
     "output_type": "display_data"
    }
   ],
   "source": [
    "df=pd.read_csv(\"../data/juwels/resultMPI.dat\",index_col=0)\n",
    "df.rename(columns = {'ns_per_day':'MPI'}, inplace = True)\n",
    "df1=pd.read_csv(\"../data/juwels/resultNCCL.dat\",index_col=0)\n",
    "df1.rename(columns = {'ns_per_day':'NCCL'}, inplace = True)\n",
    "dfAll = pd.concat([df, df1], axis=1)\n",
    "\n",
    "g=dfAll.plot.bar(fontsize=20)\n",
    "g.set_title(\"AMBER STMV 1 M atom Single node performance with and without NCCL\")\n",
    "g.set_ylabel(\"NS/day\",fontsize=20);"
   ]
  },
  {
   "cell_type": "code",
   "execution_count": null,
   "metadata": {},
   "outputs": [],
   "source": []
  }
 ],
 "metadata": {
  "cite2c": {
   "citations": {
    "6293703/FJN2J2CA": {
     "author": [
      {
       "family": "Salomon-Ferrer",
       "given": "Romelia"
      },
      {
       "family": "Götz",
       "given": "Andreas W."
      },
      {
       "family": "Poole",
       "given": "Duncan"
      },
      {
       "family": "Le Grand",
       "given": "Scott"
      },
      {
       "family": "Walker",
       "given": "Ross C."
      }
     ],
     "container-title": "Journal of chemical theory and computation",
     "id": "6293703/FJN2J2CA",
     "issue": "9",
     "issued": {
      "year": 2013
     },
     "page": "3878–3888",
     "page-first": "3878",
     "title": "Routine microsecond molecular dynamics simulations with AMBER on GPUs. 2. Explicit solvent particle mesh Ewald",
     "type": "article-journal",
     "volume": "9"
    },
    "6293703/IHNQS4NW": {
     "author": [
      {
       "family": "Götz",
       "given": "Andreas W."
      },
      {
       "family": "Williamson",
       "given": "Mark J."
      },
      {
       "family": "Xu",
       "given": "Dong"
      },
      {
       "family": "Poole",
       "given": "Duncan"
      },
      {
       "family": "Le Grand",
       "given": "Scott"
      },
      {
       "family": "Walker",
       "given": "Ross C."
      }
     ],
     "container-title": "Journal of chemical theory and computation",
     "id": "6293703/IHNQS4NW",
     "issue": "5",
     "issued": {
      "year": 2012
     },
     "page": "1542–1555",
     "page-first": "1542",
     "title": "Routine microsecond molecular dynamics simulations with AMBER on GPUs. 1. Generalized born",
     "type": "article-journal",
     "volume": "8"
    }
   }
  },
  "interpreter": {
   "hash": "31f2aee4e71d21fbe5cf8b01ff0e069b9275f58929596ceb00d14d90e3e16cd6"
  },
  "kernelspec": {
   "display_name": "Python 3.10.4 64-bit",
   "language": "python",
   "name": "python3"
  },
  "language_info": {
   "codemirror_mode": {
    "name": "ipython",
    "version": 3
   },
   "file_extension": ".py",
   "mimetype": "text/x-python",
   "name": "python",
   "nbconvert_exporter": "python",
   "pygments_lexer": "ipython3",
   "version": "3.6.9"
  }
 },
 "nbformat": 4,
 "nbformat_minor": 4
}
